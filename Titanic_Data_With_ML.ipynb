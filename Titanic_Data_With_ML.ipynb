{
  "nbformat": 4,
  "nbformat_minor": 0,
  "metadata": {
    "colab": {
      "name": "Titanic Data With ML.ipynb",
      "provenance": [],
      "collapsed_sections": [],
      "authorship_tag": "ABX9TyML10wyOs6ZNDZ0/otCzR29",
      "include_colab_link": true
    },
    "kernelspec": {
      "name": "python3",
      "display_name": "Python 3"
    }
  },
  "cells": [
    {
      "cell_type": "markdown",
      "metadata": {
        "id": "view-in-github",
        "colab_type": "text"
      },
      "source": [
        "<a href=\"https://colab.research.google.com/github/harddy-bit/Titanic-Data-With-ML/blob/main/Titanic_Data_With_ML.ipynb\" target=\"_parent\"><img src=\"https://colab.research.google.com/assets/colab-badge.svg\" alt=\"Open In Colab\"/></a>"
      ]
    },
    {
      "cell_type": "code",
      "metadata": {
        "colab": {
          "base_uri": "https://localhost:8080/"
        },
        "id": "uedozToQfcD9",
        "outputId": "0f8ebcb7-f905-4c6c-db3c-162bfe360c35"
      },
      "source": [
        "from google.colab import drive\r\n",
        "drive.mount('/content/gdrive')"
      ],
      "execution_count": 1,
      "outputs": [
        {
          "output_type": "stream",
          "text": [
            "Mounted at /content/gdrive\n"
          ],
          "name": "stdout"
        }
      ]
    },
    {
      "cell_type": "code",
      "metadata": {
        "id": "h-sn5IiIfqDh"
      },
      "source": [
        "import numpy as np\r\n",
        "import pandas as pd"
      ],
      "execution_count": 2,
      "outputs": []
    },
    {
      "cell_type": "code",
      "metadata": {
        "colab": {
          "base_uri": "https://localhost:8080/",
          "height": 255
        },
        "id": "WNAuIovjgFEm",
        "outputId": "4cb0a2f1-1074-4c70-a42f-7d613972968a"
      },
      "source": [
        "titanic = pd.read_csv('/content/gdrive/MyDrive/Colab Notebooks/Titanic Data With ML/titanic.csv')\r\n",
        "titanic.head()"
      ],
      "execution_count": 3,
      "outputs": [
        {
          "output_type": "execute_result",
          "data": {
            "text/html": [
              "<div>\n",
              "<style scoped>\n",
              "    .dataframe tbody tr th:only-of-type {\n",
              "        vertical-align: middle;\n",
              "    }\n",
              "\n",
              "    .dataframe tbody tr th {\n",
              "        vertical-align: top;\n",
              "    }\n",
              "\n",
              "    .dataframe thead th {\n",
              "        text-align: right;\n",
              "    }\n",
              "</style>\n",
              "<table border=\"1\" class=\"dataframe\">\n",
              "  <thead>\n",
              "    <tr style=\"text-align: right;\">\n",
              "      <th></th>\n",
              "      <th>PassengerId</th>\n",
              "      <th>Survived</th>\n",
              "      <th>Pclass</th>\n",
              "      <th>Name</th>\n",
              "      <th>Sex</th>\n",
              "      <th>Age</th>\n",
              "      <th>SibSp</th>\n",
              "      <th>Parch</th>\n",
              "      <th>Ticket</th>\n",
              "      <th>Fare</th>\n",
              "      <th>Cabin</th>\n",
              "      <th>Embarked</th>\n",
              "    </tr>\n",
              "  </thead>\n",
              "  <tbody>\n",
              "    <tr>\n",
              "      <th>0</th>\n",
              "      <td>1</td>\n",
              "      <td>0</td>\n",
              "      <td>3</td>\n",
              "      <td>Braund, Mr. Owen Harris</td>\n",
              "      <td>male</td>\n",
              "      <td>22.0</td>\n",
              "      <td>1</td>\n",
              "      <td>0</td>\n",
              "      <td>A/5 21171</td>\n",
              "      <td>7.2500</td>\n",
              "      <td>NaN</td>\n",
              "      <td>S</td>\n",
              "    </tr>\n",
              "    <tr>\n",
              "      <th>1</th>\n",
              "      <td>2</td>\n",
              "      <td>1</td>\n",
              "      <td>1</td>\n",
              "      <td>Cumings, Mrs. John Bradley (Florence Briggs Th...</td>\n",
              "      <td>female</td>\n",
              "      <td>38.0</td>\n",
              "      <td>1</td>\n",
              "      <td>0</td>\n",
              "      <td>PC 17599</td>\n",
              "      <td>71.2833</td>\n",
              "      <td>C85</td>\n",
              "      <td>C</td>\n",
              "    </tr>\n",
              "    <tr>\n",
              "      <th>2</th>\n",
              "      <td>3</td>\n",
              "      <td>1</td>\n",
              "      <td>3</td>\n",
              "      <td>Heikkinen, Miss. Laina</td>\n",
              "      <td>female</td>\n",
              "      <td>26.0</td>\n",
              "      <td>0</td>\n",
              "      <td>0</td>\n",
              "      <td>STON/O2. 3101282</td>\n",
              "      <td>7.9250</td>\n",
              "      <td>NaN</td>\n",
              "      <td>S</td>\n",
              "    </tr>\n",
              "    <tr>\n",
              "      <th>3</th>\n",
              "      <td>4</td>\n",
              "      <td>1</td>\n",
              "      <td>1</td>\n",
              "      <td>Futrelle, Mrs. Jacques Heath (Lily May Peel)</td>\n",
              "      <td>female</td>\n",
              "      <td>35.0</td>\n",
              "      <td>1</td>\n",
              "      <td>0</td>\n",
              "      <td>113803</td>\n",
              "      <td>53.1000</td>\n",
              "      <td>C123</td>\n",
              "      <td>S</td>\n",
              "    </tr>\n",
              "    <tr>\n",
              "      <th>4</th>\n",
              "      <td>5</td>\n",
              "      <td>0</td>\n",
              "      <td>3</td>\n",
              "      <td>Allen, Mr. William Henry</td>\n",
              "      <td>male</td>\n",
              "      <td>35.0</td>\n",
              "      <td>0</td>\n",
              "      <td>0</td>\n",
              "      <td>373450</td>\n",
              "      <td>8.0500</td>\n",
              "      <td>NaN</td>\n",
              "      <td>S</td>\n",
              "    </tr>\n",
              "  </tbody>\n",
              "</table>\n",
              "</div>"
            ],
            "text/plain": [
              "   PassengerId  Survived  Pclass  ...     Fare Cabin  Embarked\n",
              "0            1         0       3  ...   7.2500   NaN         S\n",
              "1            2         1       1  ...  71.2833   C85         C\n",
              "2            3         1       3  ...   7.9250   NaN         S\n",
              "3            4         1       1  ...  53.1000  C123         S\n",
              "4            5         0       3  ...   8.0500   NaN         S\n",
              "\n",
              "[5 rows x 12 columns]"
            ]
          },
          "metadata": {
            "tags": []
          },
          "execution_count": 3
        }
      ]
    },
    {
      "cell_type": "markdown",
      "metadata": {
        "id": "iyFMwhTHgwJH"
      },
      "source": [
        "Exploratory Data Analysis"
      ]
    },
    {
      "cell_type": "code",
      "metadata": {
        "colab": {
          "base_uri": "https://localhost:8080/"
        },
        "id": "5s6uX6gHgMEI",
        "outputId": "ed5c9e45-5319-4b3d-d5ba-6ece24cde805"
      },
      "source": [
        "print(\"Total Number of passengers in the training data......\",len(titanic))\r\n",
        "print(\"Number of passengers in the training data who survived...\",len(titanic[titanic['Survived']==1]))"
      ],
      "execution_count": 4,
      "outputs": [
        {
          "output_type": "stream",
          "text": [
            "Total Number of passengers in the training data...... 891\n",
            "Number of passengers in the training data who survived... 342\n"
          ],
          "name": "stdout"
        }
      ]
    },
    {
      "cell_type": "code",
      "metadata": {
        "colab": {
          "base_uri": "https://localhost:8080/"
        },
        "id": "CGJpLjAegpvu",
        "outputId": "6f4a6593-dc34-4233-9d3a-1228b6f4f951"
      },
      "source": [
        "print(\"Percentage of Males survived:\",100*np.mean(titanic['Survived'][titanic['Sex'] == 'male']))\r\n",
        "print(\"Percentage of Females survived:\",100*np.mean(titanic['Survived'][titanic['Sex'] == 'female']))"
      ],
      "execution_count": 13,
      "outputs": [
        {
          "output_type": "stream",
          "text": [
            "Percentage of Males survived: 18.890814558058924\n",
            "Percentage of Females survived: 74.20382165605095\n"
          ],
          "name": "stdout"
        }
      ]
    },
    {
      "cell_type": "code",
      "metadata": {
        "colab": {
          "base_uri": "https://localhost:8080/"
        },
        "id": "SbApg5LToS65",
        "outputId": "231c2ed8-b230-4c2e-e044-3acbd7e6d90b"
      },
      "source": [
        "print('Percentage of Passengers who survived in first class:', 100*np.mean(titanic['Survived'][titanic['Pclass'] == 1]))\r\n",
        "print('Percentage of Passengers who survived in third class:', 100*np.mean(titanic['Survived'][titanic['Pclass'] == 3]))"
      ],
      "execution_count": 18,
      "outputs": [
        {
          "output_type": "stream",
          "text": [
            "Percentage of Passengers who survived in first class: 62.96296296296296\n",
            "Percentage of Passengers who survived in third class: 24.236252545824847\n"
          ],
          "name": "stdout"
        }
      ]
    },
    {
      "cell_type": "code",
      "metadata": {
        "colab": {
          "base_uri": "https://localhost:8080/"
        },
        "id": "qioUUzcwozDp",
        "outputId": "178e1c31-a152-457e-c041-92c22073a845"
      },
      "source": [
        "print('Percentage of children who survived:', 100*np.mean(titanic['Survived'][titanic['Age'] < 18]))\r\n",
        "print('Percentage of adults who survived:', 100*np.mean(titanic['Survived'][titanic['Age'] > 18]))"
      ],
      "execution_count": 12,
      "outputs": [
        {
          "output_type": "stream",
          "text": [
            "Percentage of children who survived: 53.98230088495575\n",
            "Percentage of adults who survived: 38.26086956521739\n"
          ],
          "name": "stdout"
        }
      ]
    },
    {
      "cell_type": "markdown",
      "metadata": {
        "id": "b7XHWSipp0b3"
      },
      "source": [
        "**Data Pre-Processing**\r\n",
        "\r\n",
        "*Non numeric data to Numeric data*\r\n",
        "\r\n",
        "The model requires only numeric values, but one of our features is categorical: \"female\" or \"male\". this can easily be fixed by encoding this feature: \"male\" = 1, \"female\" = 0"
      ]
    },
    {
      "cell_type": "code",
      "metadata": {
        "id": "UkPf2gD8o45l"
      },
      "source": [
        "titanic['Sex'] = titanic['Sex'].apply(lambda x: 1 if x =='male' else 0)"
      ],
      "execution_count": 20,
      "outputs": []
    },
    {
      "cell_type": "code",
      "metadata": {
        "colab": {
          "base_uri": "https://localhost:8080/",
          "height": 255
        },
        "id": "AUEWakuCuKc2",
        "outputId": "dbad54f5-ef63-4a3f-9332-acf750e4c39f"
      },
      "source": [
        "titanic.head()"
      ],
      "execution_count": 21,
      "outputs": [
        {
          "output_type": "execute_result",
          "data": {
            "text/html": [
              "<div>\n",
              "<style scoped>\n",
              "    .dataframe tbody tr th:only-of-type {\n",
              "        vertical-align: middle;\n",
              "    }\n",
              "\n",
              "    .dataframe tbody tr th {\n",
              "        vertical-align: top;\n",
              "    }\n",
              "\n",
              "    .dataframe thead th {\n",
              "        text-align: right;\n",
              "    }\n",
              "</style>\n",
              "<table border=\"1\" class=\"dataframe\">\n",
              "  <thead>\n",
              "    <tr style=\"text-align: right;\">\n",
              "      <th></th>\n",
              "      <th>PassengerId</th>\n",
              "      <th>Survived</th>\n",
              "      <th>Pclass</th>\n",
              "      <th>Name</th>\n",
              "      <th>Sex</th>\n",
              "      <th>Age</th>\n",
              "      <th>SibSp</th>\n",
              "      <th>Parch</th>\n",
              "      <th>Ticket</th>\n",
              "      <th>Fare</th>\n",
              "      <th>Cabin</th>\n",
              "      <th>Embarked</th>\n",
              "    </tr>\n",
              "  </thead>\n",
              "  <tbody>\n",
              "    <tr>\n",
              "      <th>0</th>\n",
              "      <td>1</td>\n",
              "      <td>0</td>\n",
              "      <td>3</td>\n",
              "      <td>Braund, Mr. Owen Harris</td>\n",
              "      <td>1</td>\n",
              "      <td>22.0</td>\n",
              "      <td>1</td>\n",
              "      <td>0</td>\n",
              "      <td>A/5 21171</td>\n",
              "      <td>7.2500</td>\n",
              "      <td>NaN</td>\n",
              "      <td>S</td>\n",
              "    </tr>\n",
              "    <tr>\n",
              "      <th>1</th>\n",
              "      <td>2</td>\n",
              "      <td>1</td>\n",
              "      <td>1</td>\n",
              "      <td>Cumings, Mrs. John Bradley (Florence Briggs Th...</td>\n",
              "      <td>0</td>\n",
              "      <td>38.0</td>\n",
              "      <td>1</td>\n",
              "      <td>0</td>\n",
              "      <td>PC 17599</td>\n",
              "      <td>71.2833</td>\n",
              "      <td>C85</td>\n",
              "      <td>C</td>\n",
              "    </tr>\n",
              "    <tr>\n",
              "      <th>2</th>\n",
              "      <td>3</td>\n",
              "      <td>1</td>\n",
              "      <td>3</td>\n",
              "      <td>Heikkinen, Miss. Laina</td>\n",
              "      <td>0</td>\n",
              "      <td>26.0</td>\n",
              "      <td>0</td>\n",
              "      <td>0</td>\n",
              "      <td>STON/O2. 3101282</td>\n",
              "      <td>7.9250</td>\n",
              "      <td>NaN</td>\n",
              "      <td>S</td>\n",
              "    </tr>\n",
              "    <tr>\n",
              "      <th>3</th>\n",
              "      <td>4</td>\n",
              "      <td>1</td>\n",
              "      <td>1</td>\n",
              "      <td>Futrelle, Mrs. Jacques Heath (Lily May Peel)</td>\n",
              "      <td>0</td>\n",
              "      <td>35.0</td>\n",
              "      <td>1</td>\n",
              "      <td>0</td>\n",
              "      <td>113803</td>\n",
              "      <td>53.1000</td>\n",
              "      <td>C123</td>\n",
              "      <td>S</td>\n",
              "    </tr>\n",
              "    <tr>\n",
              "      <th>4</th>\n",
              "      <td>5</td>\n",
              "      <td>0</td>\n",
              "      <td>3</td>\n",
              "      <td>Allen, Mr. William Henry</td>\n",
              "      <td>1</td>\n",
              "      <td>35.0</td>\n",
              "      <td>0</td>\n",
              "      <td>0</td>\n",
              "      <td>373450</td>\n",
              "      <td>8.0500</td>\n",
              "      <td>NaN</td>\n",
              "      <td>S</td>\n",
              "    </tr>\n",
              "  </tbody>\n",
              "</table>\n",
              "</div>"
            ],
            "text/plain": [
              "   PassengerId  Survived  Pclass  ...     Fare  Cabin  Embarked\n",
              "0            1         0       3  ...   7.2500    NaN         S\n",
              "1            2         1       1  ...  71.2833    C85         C\n",
              "2            3         1       3  ...   7.9250    NaN         S\n",
              "3            4         1       1  ...  53.1000   C123         S\n",
              "4            5         0       3  ...   8.0500    NaN         S\n",
              "\n",
              "[5 rows x 12 columns]"
            ]
          },
          "metadata": {
            "tags": []
          },
          "execution_count": 21
        }
      ]
    },
    {
      "cell_type": "markdown",
      "metadata": {
        "id": "Yjn4E1K9uUa6"
      },
      "source": [
        "Missing Values"
      ]
    },
    {
      "cell_type": "code",
      "metadata": {
        "colab": {
          "base_uri": "https://localhost:8080/"
        },
        "id": "02pP8oDWuQzo",
        "outputId": "6003db04-af01-465e-a41a-03a13e1176ca"
      },
      "source": [
        "titanic.isnull().sum()"
      ],
      "execution_count": 22,
      "outputs": [
        {
          "output_type": "execute_result",
          "data": {
            "text/plain": [
              "PassengerId      0\n",
              "Survived         0\n",
              "Pclass           0\n",
              "Name             0\n",
              "Sex              0\n",
              "Age            177\n",
              "SibSp            0\n",
              "Parch            0\n",
              "Ticket           0\n",
              "Fare             0\n",
              "Cabin          687\n",
              "Embarked         2\n",
              "dtype: int64"
            ]
          },
          "metadata": {
            "tags": []
          },
          "execution_count": 22
        }
      ]
    },
    {
      "cell_type": "code",
      "metadata": {
        "id": "WC-cAyraujFC"
      },
      "source": [
        "titanic['Age'] = titanic['Age'].fillna(np.mean(titanic['Age']))"
      ],
      "execution_count": 23,
      "outputs": []
    },
    {
      "cell_type": "code",
      "metadata": {
        "id": "QpJb_-wRu-Cu"
      },
      "source": [
        "titanic.Embarked.fillna(value='S', axis = 0, inplace = True)"
      ],
      "execution_count": 24,
      "outputs": []
    },
    {
      "cell_type": "code",
      "metadata": {
        "colab": {
          "base_uri": "https://localhost:8080/"
        },
        "id": "zftx0ondvUcc",
        "outputId": "decc8574-f39a-4595-cd57-ccead1ab081e"
      },
      "source": [
        "titanic.isnull().sum()"
      ],
      "execution_count": 26,
      "outputs": [
        {
          "output_type": "execute_result",
          "data": {
            "text/plain": [
              "PassengerId      0\n",
              "Survived         0\n",
              "Pclass           0\n",
              "Name             0\n",
              "Sex              0\n",
              "Age              0\n",
              "SibSp            0\n",
              "Parch            0\n",
              "Ticket           0\n",
              "Fare             0\n",
              "Cabin          687\n",
              "Embarked         0\n",
              "dtype: int64"
            ]
          },
          "metadata": {
            "tags": []
          },
          "execution_count": 26
        }
      ]
    },
    {
      "cell_type": "markdown",
      "metadata": {
        "id": "9Z3mnPP5vcBc"
      },
      "source": [
        "**Omit Irrelevant Columns**"
      ]
    },
    {
      "cell_type": "code",
      "metadata": {
        "id": "6GFmiiRXvV2T"
      },
      "source": [
        "titanic = titanic[['Survived', 'Pclass', 'Sex', 'Age', 'SibSp', 'Parch', 'Fare']]"
      ],
      "execution_count": 27,
      "outputs": []
    },
    {
      "cell_type": "markdown",
      "metadata": {
        "id": "ZqGhFugQvvOn"
      },
      "source": [
        "Separate X & Y"
      ]
    },
    {
      "cell_type": "code",
      "metadata": {
        "id": "sNOjTY5Dvr5l"
      },
      "source": [
        "X = titanic.drop('Survived', axis = 1)\r\n",
        "y = titanic['Survived']"
      ],
      "execution_count": 28,
      "outputs": []
    },
    {
      "cell_type": "markdown",
      "metadata": {
        "id": "B1T9gRdlv5yP"
      },
      "source": [
        "**Train & Test Split**"
      ]
    },
    {
      "cell_type": "code",
      "metadata": {
        "id": "k43S-imNv4jc"
      },
      "source": [
        "from sklearn.model_selection import train_test_split\r\n",
        "X_train, X_test, y_train, y_test = train_test_split(X, y, test_size=0.33, random_state=42)"
      ],
      "execution_count": 29,
      "outputs": []
    },
    {
      "cell_type": "markdown",
      "metadata": {
        "id": "sn6rnf74wInU"
      },
      "source": [
        "**Building the Model**"
      ]
    },
    {
      "cell_type": "code",
      "metadata": {
        "colab": {
          "base_uri": "https://localhost:8080/"
        },
        "id": "G5NaL4HTwHbz",
        "outputId": "40c6cd21-fec0-4283-ac33-0a7bb369baf1"
      },
      "source": [
        "from sklearn.tree import DecisionTreeClassifier\r\n",
        "model = DecisionTreeClassifier()\r\n",
        "model.fit(X_train, y_train)"
      ],
      "execution_count": 30,
      "outputs": [
        {
          "output_type": "execute_result",
          "data": {
            "text/plain": [
              "DecisionTreeClassifier(ccp_alpha=0.0, class_weight=None, criterion='gini',\n",
              "                       max_depth=None, max_features=None, max_leaf_nodes=None,\n",
              "                       min_impurity_decrease=0.0, min_impurity_split=None,\n",
              "                       min_samples_leaf=1, min_samples_split=2,\n",
              "                       min_weight_fraction_leaf=0.0, presort='deprecated',\n",
              "                       random_state=None, splitter='best')"
            ]
          },
          "metadata": {
            "tags": []
          },
          "execution_count": 30
        }
      ]
    },
    {
      "cell_type": "code",
      "metadata": {
        "colab": {
          "base_uri": "https://localhost:8080/"
        },
        "id": "Ec-jlPDwwPNa",
        "outputId": "24a042f4-bd17-401d-ff79-f1976dde3965"
      },
      "source": [
        "from sklearn.metrics import accuracy_score\r\n",
        "print('Training accuracy...', accuracy_score(y_train, model.predict(X_train)))\r\n",
        "print('Test accuracy', accuracy_score(y_test, model.predict(X_test)))"
      ],
      "execution_count": 32,
      "outputs": [
        {
          "output_type": "stream",
          "text": [
            "Training accuracy... 0.9798657718120806\n",
            "Test accuracy 0.7457627118644068\n"
          ],
          "name": "stdout"
        }
      ]
    },
    {
      "cell_type": "markdown",
      "metadata": {
        "id": "dEBIhYpmwkEp"
      },
      "source": [
        "**Improve the Model**"
      ]
    },
    {
      "cell_type": "code",
      "metadata": {
        "colab": {
          "base_uri": "https://localhost:8080/"
        },
        "id": "NJZLw_XSwnbU",
        "outputId": "fac8de4b-00a4-4342-feac-c6c861d32717"
      },
      "source": [
        "model_improved = DecisionTreeClassifier(max_depth = 4)\r\n",
        "model_improved.fit(X_train, y_train)"
      ],
      "execution_count": 48,
      "outputs": [
        {
          "output_type": "execute_result",
          "data": {
            "text/plain": [
              "DecisionTreeClassifier(ccp_alpha=0.0, class_weight=None, criterion='gini',\n",
              "                       max_depth=4, max_features=None, max_leaf_nodes=None,\n",
              "                       min_impurity_decrease=0.0, min_impurity_split=None,\n",
              "                       min_samples_leaf=1, min_samples_split=2,\n",
              "                       min_weight_fraction_leaf=0.0, presort='deprecated',\n",
              "                       random_state=None, splitter='best')"
            ]
          },
          "metadata": {
            "tags": []
          },
          "execution_count": 48
        }
      ]
    },
    {
      "cell_type": "code",
      "metadata": {
        "colab": {
          "base_uri": "https://localhost:8080/"
        },
        "id": "VdpTPUl2wqcY",
        "outputId": "15fde72e-8168-4f7d-ac81-8e1f1d65cef2"
      },
      "source": [
        "print('train score...' , accuracy_score(y_train, model_improved.predict(X_train)))\r\n",
        "print('test score...', accuracy_score(y_test, model_improved.predict(X_test)))"
      ],
      "execution_count": 49,
      "outputs": [
        {
          "output_type": "stream",
          "text": [
            "train score... 0.8355704697986577\n",
            "test score... 0.823728813559322\n"
          ],
          "name": "stdout"
        }
      ]
    },
    {
      "cell_type": "code",
      "metadata": {
        "id": "7xGwKZL3wtAo"
      },
      "source": [
        "from sklearn.tree import export_graphviz\r\n",
        "import graphviz"
      ],
      "execution_count": 50,
      "outputs": []
    },
    {
      "cell_type": "code",
      "metadata": {
        "id": "g799Ax3Uw4LH"
      },
      "source": [
        "dot_data = export_graphviz(model_improved, out_file=None,impurity=False, \r\n",
        "                    feature_names=X_test.columns,  \r\n",
        "                      class_names=['0', '1'],  \r\n",
        "                      filled=True, rounded=True)"
      ],
      "execution_count": 51,
      "outputs": []
    },
    {
      "cell_type": "code",
      "metadata": {
        "id": "_0vm9VqCw6oM"
      },
      "source": [
        "graph = graphviz.Source(dot_data)"
      ],
      "execution_count": 52,
      "outputs": []
    },
    {
      "cell_type": "code",
      "metadata": {
        "colab": {
          "base_uri": "https://localhost:8080/",
          "height": 677
        },
        "id": "Gyhx1DrEw-UI",
        "outputId": "ed09c3d6-da33-4e11-e19e-07b9ae4e8dae"
      },
      "source": [
        "graph"
      ],
      "execution_count": 53,
      "outputs": [
        {
          "output_type": "execute_result",
          "data": {
            "text/plain": [
              "<graphviz.files.Source at 0x7fbffff8d240>"
            ],
            "image/svg+xml": "<?xml version=\"1.0\" encoding=\"UTF-8\" standalone=\"no\"?>\n<!DOCTYPE svg PUBLIC \"-//W3C//DTD SVG 1.1//EN\"\n \"http://www.w3.org/Graphics/SVG/1.1/DTD/svg11.dtd\">\n<!-- Generated by graphviz version 2.40.1 (20161225.0304)\n -->\n<!-- Title: Tree Pages: 1 -->\n<svg width=\"1714pt\" height=\"477pt\"\n viewBox=\"0.00 0.00 1714.00 477.00\" xmlns=\"http://www.w3.org/2000/svg\" xmlns:xlink=\"http://www.w3.org/1999/xlink\">\n<g id=\"graph0\" class=\"graph\" transform=\"scale(1 1) rotate(0) translate(4 473)\">\n<title>Tree</title>\n<polygon fill=\"#ffffff\" stroke=\"transparent\" points=\"-4,4 -4,-473 1710,-473 1710,4 -4,4\"/>\n<!-- 0 -->\n<g id=\"node1\" class=\"node\">\n<title>0</title>\n<path fill=\"#f4ccaf\" stroke=\"#000000\" d=\"M896.5,-469C896.5,-469 788.5,-469 788.5,-469 782.5,-469 776.5,-463 776.5,-457 776.5,-457 776.5,-413 776.5,-413 776.5,-407 782.5,-401 788.5,-401 788.5,-401 896.5,-401 896.5,-401 902.5,-401 908.5,-407 908.5,-413 908.5,-413 908.5,-457 908.5,-457 908.5,-463 902.5,-469 896.5,-469\"/>\n<text text-anchor=\"middle\" x=\"842.5\" y=\"-453.8\" font-family=\"Helvetica,sans-Serif\" font-size=\"14.00\" fill=\"#000000\">Sex &lt;= 0.5</text>\n<text text-anchor=\"middle\" x=\"842.5\" y=\"-438.8\" font-family=\"Helvetica,sans-Serif\" font-size=\"14.00\" fill=\"#000000\">samples = 596</text>\n<text text-anchor=\"middle\" x=\"842.5\" y=\"-423.8\" font-family=\"Helvetica,sans-Serif\" font-size=\"14.00\" fill=\"#000000\">value = [374, 222]</text>\n<text text-anchor=\"middle\" x=\"842.5\" y=\"-408.8\" font-family=\"Helvetica,sans-Serif\" font-size=\"14.00\" fill=\"#000000\">class = 0</text>\n</g>\n<!-- 1 -->\n<g id=\"node2\" class=\"node\">\n<title>1</title>\n<path fill=\"#85c2ef\" stroke=\"#000000\" d=\"M767.5,-365C767.5,-365 667.5,-365 667.5,-365 661.5,-365 655.5,-359 655.5,-353 655.5,-353 655.5,-309 655.5,-309 655.5,-303 661.5,-297 667.5,-297 667.5,-297 767.5,-297 767.5,-297 773.5,-297 779.5,-303 779.5,-309 779.5,-309 779.5,-353 779.5,-353 779.5,-359 773.5,-365 767.5,-365\"/>\n<text text-anchor=\"middle\" x=\"717.5\" y=\"-349.8\" font-family=\"Helvetica,sans-Serif\" font-size=\"14.00\" fill=\"#000000\">Pclass &lt;= 2.5</text>\n<text text-anchor=\"middle\" x=\"717.5\" y=\"-334.8\" font-family=\"Helvetica,sans-Serif\" font-size=\"14.00\" fill=\"#000000\">samples = 206</text>\n<text text-anchor=\"middle\" x=\"717.5\" y=\"-319.8\" font-family=\"Helvetica,sans-Serif\" font-size=\"14.00\" fill=\"#000000\">value = [57, 149]</text>\n<text text-anchor=\"middle\" x=\"717.5\" y=\"-304.8\" font-family=\"Helvetica,sans-Serif\" font-size=\"14.00\" fill=\"#000000\">class = 1</text>\n</g>\n<!-- 0&#45;&gt;1 -->\n<g id=\"edge1\" class=\"edge\">\n<title>0&#45;&gt;1</title>\n<path fill=\"none\" stroke=\"#000000\" d=\"M801.5703,-400.9465C790.3472,-391.6088 778.0663,-381.3911 766.4427,-371.7203\"/>\n<polygon fill=\"#000000\" stroke=\"#000000\" points=\"768.4474,-368.8353 758.5216,-365.13 763.9704,-374.2164 768.4474,-368.8353\"/>\n<text text-anchor=\"middle\" x=\"760.8046\" y=\"-386.3255\" font-family=\"Helvetica,sans-Serif\" font-size=\"14.00\" fill=\"#000000\">True</text>\n</g>\n<!-- 16 -->\n<g id=\"node17\" class=\"node\">\n<title>16</title>\n<path fill=\"#eb9e67\" stroke=\"#000000\" d=\"M1023.5,-365C1023.5,-365 923.5,-365 923.5,-365 917.5,-365 911.5,-359 911.5,-353 911.5,-353 911.5,-309 911.5,-309 911.5,-303 917.5,-297 923.5,-297 923.5,-297 1023.5,-297 1023.5,-297 1029.5,-297 1035.5,-303 1035.5,-309 1035.5,-309 1035.5,-353 1035.5,-353 1035.5,-359 1029.5,-365 1023.5,-365\"/>\n<text text-anchor=\"middle\" x=\"973.5\" y=\"-349.8\" font-family=\"Helvetica,sans-Serif\" font-size=\"14.00\" fill=\"#000000\">Age &lt;= 3.5</text>\n<text text-anchor=\"middle\" x=\"973.5\" y=\"-334.8\" font-family=\"Helvetica,sans-Serif\" font-size=\"14.00\" fill=\"#000000\">samples = 390</text>\n<text text-anchor=\"middle\" x=\"973.5\" y=\"-319.8\" font-family=\"Helvetica,sans-Serif\" font-size=\"14.00\" fill=\"#000000\">value = [317, 73]</text>\n<text text-anchor=\"middle\" x=\"973.5\" y=\"-304.8\" font-family=\"Helvetica,sans-Serif\" font-size=\"14.00\" fill=\"#000000\">class = 0</text>\n</g>\n<!-- 0&#45;&gt;16 -->\n<g id=\"edge16\" class=\"edge\">\n<title>0&#45;&gt;16</title>\n<path fill=\"none\" stroke=\"#000000\" d=\"M885.3943,-400.9465C897.2693,-391.519 910.2741,-381.1946 922.5593,-371.4415\"/>\n<polygon fill=\"#000000\" stroke=\"#000000\" points=\"924.8536,-374.089 930.5093,-365.13 920.5011,-368.6066 924.8536,-374.089\"/>\n<text text-anchor=\"middle\" x=\"927.6558\" y=\"-386.2666\" font-family=\"Helvetica,sans-Serif\" font-size=\"14.00\" fill=\"#000000\">False</text>\n</g>\n<!-- 2 -->\n<g id=\"node3\" class=\"node\">\n<title>2</title>\n<path fill=\"#41a1e6\" stroke=\"#000000\" d=\"M398.5,-261C398.5,-261 306.5,-261 306.5,-261 300.5,-261 294.5,-255 294.5,-249 294.5,-249 294.5,-205 294.5,-205 294.5,-199 300.5,-193 306.5,-193 306.5,-193 398.5,-193 398.5,-193 404.5,-193 410.5,-199 410.5,-205 410.5,-205 410.5,-249 410.5,-249 410.5,-255 404.5,-261 398.5,-261\"/>\n<text text-anchor=\"middle\" x=\"352.5\" y=\"-245.8\" font-family=\"Helvetica,sans-Serif\" font-size=\"14.00\" fill=\"#000000\">Age &lt;= 2.5</text>\n<text text-anchor=\"middle\" x=\"352.5\" y=\"-230.8\" font-family=\"Helvetica,sans-Serif\" font-size=\"14.00\" fill=\"#000000\">samples = 107</text>\n<text text-anchor=\"middle\" x=\"352.5\" y=\"-215.8\" font-family=\"Helvetica,sans-Serif\" font-size=\"14.00\" fill=\"#000000\">value = [4, 103]</text>\n<text text-anchor=\"middle\" x=\"352.5\" y=\"-200.8\" font-family=\"Helvetica,sans-Serif\" font-size=\"14.00\" fill=\"#000000\">class = 1</text>\n</g>\n<!-- 1&#45;&gt;2 -->\n<g id=\"edge2\" class=\"edge\">\n<title>1&#45;&gt;2</title>\n<path fill=\"none\" stroke=\"#000000\" d=\"M655.169,-313.2399C589.8658,-294.633 487.6094,-265.4969 420.3212,-246.3244\"/>\n<polygon fill=\"#000000\" stroke=\"#000000\" points=\"421.232,-242.9447 410.6557,-243.5704 419.3138,-249.6767 421.232,-242.9447\"/>\n</g>\n<!-- 9 -->\n<g id=\"node10\" class=\"node\">\n<title>9</title>\n<path fill=\"#fceee5\" stroke=\"#000000\" d=\"M763.5,-261C763.5,-261 671.5,-261 671.5,-261 665.5,-261 659.5,-255 659.5,-249 659.5,-249 659.5,-205 659.5,-205 659.5,-199 665.5,-193 671.5,-193 671.5,-193 763.5,-193 763.5,-193 769.5,-193 775.5,-199 775.5,-205 775.5,-205 775.5,-249 775.5,-249 775.5,-255 769.5,-261 763.5,-261\"/>\n<text text-anchor=\"middle\" x=\"717.5\" y=\"-245.8\" font-family=\"Helvetica,sans-Serif\" font-size=\"14.00\" fill=\"#000000\">Fare &lt;= 23.35</text>\n<text text-anchor=\"middle\" x=\"717.5\" y=\"-230.8\" font-family=\"Helvetica,sans-Serif\" font-size=\"14.00\" fill=\"#000000\">samples = 99</text>\n<text text-anchor=\"middle\" x=\"717.5\" y=\"-215.8\" font-family=\"Helvetica,sans-Serif\" font-size=\"14.00\" fill=\"#000000\">value = [53, 46]</text>\n<text text-anchor=\"middle\" x=\"717.5\" y=\"-200.8\" font-family=\"Helvetica,sans-Serif\" font-size=\"14.00\" fill=\"#000000\">class = 0</text>\n</g>\n<!-- 1&#45;&gt;9 -->\n<g id=\"edge9\" class=\"edge\">\n<title>1&#45;&gt;9</title>\n<path fill=\"none\" stroke=\"#000000\" d=\"M717.5,-296.9465C717.5,-288.776 717.5,-279.9318 717.5,-271.3697\"/>\n<polygon fill=\"#000000\" stroke=\"#000000\" points=\"721.0001,-271.13 717.5,-261.13 714.0001,-271.13 721.0001,-271.13\"/>\n</g>\n<!-- 3 -->\n<g id=\"node4\" class=\"node\">\n<title>3</title>\n<path fill=\"#ffffff\" stroke=\"#000000\" d=\"M204,-157C204,-157 129,-157 129,-157 123,-157 117,-151 117,-145 117,-145 117,-101 117,-101 117,-95 123,-89 129,-89 129,-89 204,-89 204,-89 210,-89 216,-95 216,-101 216,-101 216,-145 216,-145 216,-151 210,-157 204,-157\"/>\n<text text-anchor=\"middle\" x=\"166.5\" y=\"-141.8\" font-family=\"Helvetica,sans-Serif\" font-size=\"14.00\" fill=\"#000000\">Parch &lt;= 1.5</text>\n<text text-anchor=\"middle\" x=\"166.5\" y=\"-126.8\" font-family=\"Helvetica,sans-Serif\" font-size=\"14.00\" fill=\"#000000\">samples = 2</text>\n<text text-anchor=\"middle\" x=\"166.5\" y=\"-111.8\" font-family=\"Helvetica,sans-Serif\" font-size=\"14.00\" fill=\"#000000\">value = [1, 1]</text>\n<text text-anchor=\"middle\" x=\"166.5\" y=\"-96.8\" font-family=\"Helvetica,sans-Serif\" font-size=\"14.00\" fill=\"#000000\">class = 0</text>\n</g>\n<!-- 2&#45;&gt;3 -->\n<g id=\"edge3\" class=\"edge\">\n<title>2&#45;&gt;3</title>\n<path fill=\"none\" stroke=\"#000000\" d=\"M294.4135,-194.5215C272.3042,-182.1594 247.1153,-168.0752 224.9706,-155.6932\"/>\n<polygon fill=\"#000000\" stroke=\"#000000\" points=\"226.4432,-152.5067 216.0068,-150.6812 223.027,-158.6165 226.4432,-152.5067\"/>\n</g>\n<!-- 6 -->\n<g id=\"node7\" class=\"node\">\n<title>6</title>\n<path fill=\"#3fa0e6\" stroke=\"#000000\" d=\"M398.5,-157C398.5,-157 306.5,-157 306.5,-157 300.5,-157 294.5,-151 294.5,-145 294.5,-145 294.5,-101 294.5,-101 294.5,-95 300.5,-89 306.5,-89 306.5,-89 398.5,-89 398.5,-89 404.5,-89 410.5,-95 410.5,-101 410.5,-101 410.5,-145 410.5,-145 410.5,-151 404.5,-157 398.5,-157\"/>\n<text text-anchor=\"middle\" x=\"352.5\" y=\"-141.8\" font-family=\"Helvetica,sans-Serif\" font-size=\"14.00\" fill=\"#000000\">Age &lt;= 24.5</text>\n<text text-anchor=\"middle\" x=\"352.5\" y=\"-126.8\" font-family=\"Helvetica,sans-Serif\" font-size=\"14.00\" fill=\"#000000\">samples = 105</text>\n<text text-anchor=\"middle\" x=\"352.5\" y=\"-111.8\" font-family=\"Helvetica,sans-Serif\" font-size=\"14.00\" fill=\"#000000\">value = [3, 102]</text>\n<text text-anchor=\"middle\" x=\"352.5\" y=\"-96.8\" font-family=\"Helvetica,sans-Serif\" font-size=\"14.00\" fill=\"#000000\">class = 1</text>\n</g>\n<!-- 2&#45;&gt;6 -->\n<g id=\"edge6\" class=\"edge\">\n<title>2&#45;&gt;6</title>\n<path fill=\"none\" stroke=\"#000000\" d=\"M352.5,-192.9465C352.5,-184.776 352.5,-175.9318 352.5,-167.3697\"/>\n<polygon fill=\"#000000\" stroke=\"#000000\" points=\"356.0001,-167.13 352.5,-157.13 349.0001,-167.13 356.0001,-167.13\"/>\n</g>\n<!-- 4 -->\n<g id=\"node5\" class=\"node\">\n<title>4</title>\n<path fill=\"#399de5\" stroke=\"#000000\" d=\"M87,-53C87,-53 12,-53 12,-53 6,-53 0,-47 0,-41 0,-41 0,-12 0,-12 0,-6 6,0 12,0 12,0 87,0 87,0 93,0 99,-6 99,-12 99,-12 99,-41 99,-41 99,-47 93,-53 87,-53\"/>\n<text text-anchor=\"middle\" x=\"49.5\" y=\"-37.8\" font-family=\"Helvetica,sans-Serif\" font-size=\"14.00\" fill=\"#000000\">samples = 1</text>\n<text text-anchor=\"middle\" x=\"49.5\" y=\"-22.8\" font-family=\"Helvetica,sans-Serif\" font-size=\"14.00\" fill=\"#000000\">value = [0, 1]</text>\n<text text-anchor=\"middle\" x=\"49.5\" y=\"-7.8\" font-family=\"Helvetica,sans-Serif\" font-size=\"14.00\" fill=\"#000000\">class = 1</text>\n</g>\n<!-- 3&#45;&gt;4 -->\n<g id=\"edge4\" class=\"edge\">\n<title>3&#45;&gt;4</title>\n<path fill=\"none\" stroke=\"#000000\" d=\"M125.2502,-88.9777C113.7039,-79.4545 101.1729,-69.1191 89.689,-59.6473\"/>\n<polygon fill=\"#000000\" stroke=\"#000000\" points=\"91.8724,-56.9113 81.9308,-53.2485 87.4184,-62.3115 91.8724,-56.9113\"/>\n</g>\n<!-- 5 -->\n<g id=\"node6\" class=\"node\">\n<title>5</title>\n<path fill=\"#e58139\" stroke=\"#000000\" d=\"M204,-53C204,-53 129,-53 129,-53 123,-53 117,-47 117,-41 117,-41 117,-12 117,-12 117,-6 123,0 129,0 129,0 204,0 204,0 210,0 216,-6 216,-12 216,-12 216,-41 216,-41 216,-47 210,-53 204,-53\"/>\n<text text-anchor=\"middle\" x=\"166.5\" y=\"-37.8\" font-family=\"Helvetica,sans-Serif\" font-size=\"14.00\" fill=\"#000000\">samples = 1</text>\n<text text-anchor=\"middle\" x=\"166.5\" y=\"-22.8\" font-family=\"Helvetica,sans-Serif\" font-size=\"14.00\" fill=\"#000000\">value = [1, 0]</text>\n<text text-anchor=\"middle\" x=\"166.5\" y=\"-7.8\" font-family=\"Helvetica,sans-Serif\" font-size=\"14.00\" fill=\"#000000\">class = 0</text>\n</g>\n<!-- 3&#45;&gt;5 -->\n<g id=\"edge5\" class=\"edge\">\n<title>3&#45;&gt;5</title>\n<path fill=\"none\" stroke=\"#000000\" d=\"M166.5,-88.9777C166.5,-80.7364 166.5,-71.887 166.5,-63.5153\"/>\n<polygon fill=\"#000000\" stroke=\"#000000\" points=\"170.0001,-63.2484 166.5,-53.2485 163.0001,-63.2485 170.0001,-63.2484\"/>\n</g>\n<!-- 7 -->\n<g id=\"node8\" class=\"node\">\n<title>7</title>\n<path fill=\"#399de5\" stroke=\"#000000\" d=\"M329,-53C329,-53 246,-53 246,-53 240,-53 234,-47 234,-41 234,-41 234,-12 234,-12 234,-6 240,0 246,0 246,0 329,0 329,0 335,0 341,-6 341,-12 341,-12 341,-41 341,-41 341,-47 335,-53 329,-53\"/>\n<text text-anchor=\"middle\" x=\"287.5\" y=\"-37.8\" font-family=\"Helvetica,sans-Serif\" font-size=\"14.00\" fill=\"#000000\">samples = 34</text>\n<text text-anchor=\"middle\" x=\"287.5\" y=\"-22.8\" font-family=\"Helvetica,sans-Serif\" font-size=\"14.00\" fill=\"#000000\">value = [0, 34]</text>\n<text text-anchor=\"middle\" x=\"287.5\" y=\"-7.8\" font-family=\"Helvetica,sans-Serif\" font-size=\"14.00\" fill=\"#000000\">class = 1</text>\n</g>\n<!-- 6&#45;&gt;7 -->\n<g id=\"edge7\" class=\"edge\">\n<title>6&#45;&gt;7</title>\n<path fill=\"none\" stroke=\"#000000\" d=\"M329.5834,-88.9777C323.6006,-80.0954 317.1418,-70.5067 311.123,-61.5711\"/>\n<polygon fill=\"#000000\" stroke=\"#000000\" points=\"314.0067,-59.5871 305.5171,-53.2485 308.2009,-63.4978 314.0067,-59.5871\"/>\n</g>\n<!-- 8 -->\n<g id=\"node9\" class=\"node\">\n<title>8</title>\n<path fill=\"#42a1e6\" stroke=\"#000000\" d=\"M454,-53C454,-53 371,-53 371,-53 365,-53 359,-47 359,-41 359,-41 359,-12 359,-12 359,-6 365,0 371,0 371,0 454,0 454,0 460,0 466,-6 466,-12 466,-12 466,-41 466,-41 466,-47 460,-53 454,-53\"/>\n<text text-anchor=\"middle\" x=\"412.5\" y=\"-37.8\" font-family=\"Helvetica,sans-Serif\" font-size=\"14.00\" fill=\"#000000\">samples = 71</text>\n<text text-anchor=\"middle\" x=\"412.5\" y=\"-22.8\" font-family=\"Helvetica,sans-Serif\" font-size=\"14.00\" fill=\"#000000\">value = [3, 68]</text>\n<text text-anchor=\"middle\" x=\"412.5\" y=\"-7.8\" font-family=\"Helvetica,sans-Serif\" font-size=\"14.00\" fill=\"#000000\">class = 1</text>\n</g>\n<!-- 6&#45;&gt;8 -->\n<g id=\"edge8\" class=\"edge\">\n<title>6&#45;&gt;8</title>\n<path fill=\"none\" stroke=\"#000000\" d=\"M373.6538,-88.9777C379.1195,-80.187 385.0154,-70.7044 390.5222,-61.8477\"/>\n<polygon fill=\"#000000\" stroke=\"#000000\" points=\"393.5609,-63.5889 395.8688,-53.2485 387.6163,-59.8927 393.5609,-63.5889\"/>\n</g>\n<!-- 10 -->\n<g id=\"node11\" class=\"node\">\n<title>10</title>\n<path fill=\"#d7ebfa\" stroke=\"#000000\" d=\"M708.5,-157C708.5,-157 616.5,-157 616.5,-157 610.5,-157 604.5,-151 604.5,-145 604.5,-145 604.5,-101 604.5,-101 604.5,-95 610.5,-89 616.5,-89 616.5,-89 708.5,-89 708.5,-89 714.5,-89 720.5,-95 720.5,-101 720.5,-101 720.5,-145 720.5,-145 720.5,-151 714.5,-157 708.5,-157\"/>\n<text text-anchor=\"middle\" x=\"662.5\" y=\"-141.8\" font-family=\"Helvetica,sans-Serif\" font-size=\"14.00\" fill=\"#000000\">Age &lt;= 36.5</text>\n<text text-anchor=\"middle\" x=\"662.5\" y=\"-126.8\" font-family=\"Helvetica,sans-Serif\" font-size=\"14.00\" fill=\"#000000\">samples = 81</text>\n<text text-anchor=\"middle\" x=\"662.5\" y=\"-111.8\" font-family=\"Helvetica,sans-Serif\" font-size=\"14.00\" fill=\"#000000\">value = [36, 45]</text>\n<text text-anchor=\"middle\" x=\"662.5\" y=\"-96.8\" font-family=\"Helvetica,sans-Serif\" font-size=\"14.00\" fill=\"#000000\">class = 1</text>\n</g>\n<!-- 9&#45;&gt;10 -->\n<g id=\"edge10\" class=\"edge\">\n<title>9&#45;&gt;10</title>\n<path fill=\"none\" stroke=\"#000000\" d=\"M699.4909,-192.9465C694.9801,-184.4169 690.0809,-175.153 685.3686,-166.2424\"/>\n<polygon fill=\"#000000\" stroke=\"#000000\" points=\"688.3185,-164.3337 680.5495,-157.13 682.1306,-167.6062 688.3185,-164.3337\"/>\n</g>\n<!-- 13 -->\n<g id=\"node14\" class=\"node\">\n<title>13</title>\n<path fill=\"#e78845\" stroke=\"#000000\" d=\"M834,-157C834,-157 751,-157 751,-157 745,-157 739,-151 739,-145 739,-145 739,-101 739,-101 739,-95 745,-89 751,-89 751,-89 834,-89 834,-89 840,-89 846,-95 846,-101 846,-101 846,-145 846,-145 846,-151 840,-157 834,-157\"/>\n<text text-anchor=\"middle\" x=\"792.5\" y=\"-141.8\" font-family=\"Helvetica,sans-Serif\" font-size=\"14.00\" fill=\"#000000\">Age &lt;= 7.0</text>\n<text text-anchor=\"middle\" x=\"792.5\" y=\"-126.8\" font-family=\"Helvetica,sans-Serif\" font-size=\"14.00\" fill=\"#000000\">samples = 18</text>\n<text text-anchor=\"middle\" x=\"792.5\" y=\"-111.8\" font-family=\"Helvetica,sans-Serif\" font-size=\"14.00\" fill=\"#000000\">value = [17, 1]</text>\n<text text-anchor=\"middle\" x=\"792.5\" y=\"-96.8\" font-family=\"Helvetica,sans-Serif\" font-size=\"14.00\" fill=\"#000000\">class = 0</text>\n</g>\n<!-- 9&#45;&gt;13 -->\n<g id=\"edge13\" class=\"edge\">\n<title>9&#45;&gt;13</title>\n<path fill=\"none\" stroke=\"#000000\" d=\"M742.0578,-192.9465C748.4032,-184.1475 755.3121,-174.5672 761.9236,-165.3993\"/>\n<polygon fill=\"#000000\" stroke=\"#000000\" points=\"764.8766,-167.2882 767.887,-157.13 759.1989,-163.1937 764.8766,-167.2882\"/>\n</g>\n<!-- 11 -->\n<g id=\"node12\" class=\"node\">\n<title>11</title>\n<path fill=\"#c6e3f7\" stroke=\"#000000\" d=\"M588.5,-53C588.5,-53 496.5,-53 496.5,-53 490.5,-53 484.5,-47 484.5,-41 484.5,-41 484.5,-12 484.5,-12 484.5,-6 490.5,0 496.5,0 496.5,0 588.5,0 588.5,0 594.5,0 600.5,-6 600.5,-12 600.5,-12 600.5,-41 600.5,-41 600.5,-47 594.5,-53 588.5,-53\"/>\n<text text-anchor=\"middle\" x=\"542.5\" y=\"-37.8\" font-family=\"Helvetica,sans-Serif\" font-size=\"14.00\" fill=\"#000000\">samples = 77</text>\n<text text-anchor=\"middle\" x=\"542.5\" y=\"-22.8\" font-family=\"Helvetica,sans-Serif\" font-size=\"14.00\" fill=\"#000000\">value = [32, 45]</text>\n<text text-anchor=\"middle\" x=\"542.5\" y=\"-7.8\" font-family=\"Helvetica,sans-Serif\" font-size=\"14.00\" fill=\"#000000\">class = 1</text>\n</g>\n<!-- 10&#45;&gt;11 -->\n<g id=\"edge11\" class=\"edge\">\n<title>10&#45;&gt;11</title>\n<path fill=\"none\" stroke=\"#000000\" d=\"M620.1925,-88.9777C608.3501,-79.4545 595.4979,-69.1191 583.7195,-59.6473\"/>\n<polygon fill=\"#000000\" stroke=\"#000000\" points=\"585.7486,-56.7877 575.7624,-53.2485 581.3618,-62.2427 585.7486,-56.7877\"/>\n</g>\n<!-- 12 -->\n<g id=\"node13\" class=\"node\">\n<title>12</title>\n<path fill=\"#e58139\" stroke=\"#000000\" d=\"M706,-53C706,-53 631,-53 631,-53 625,-53 619,-47 619,-41 619,-41 619,-12 619,-12 619,-6 625,0 631,0 631,0 706,0 706,0 712,0 718,-6 718,-12 718,-12 718,-41 718,-41 718,-47 712,-53 706,-53\"/>\n<text text-anchor=\"middle\" x=\"668.5\" y=\"-37.8\" font-family=\"Helvetica,sans-Serif\" font-size=\"14.00\" fill=\"#000000\">samples = 4</text>\n<text text-anchor=\"middle\" x=\"668.5\" y=\"-22.8\" font-family=\"Helvetica,sans-Serif\" font-size=\"14.00\" fill=\"#000000\">value = [4, 0]</text>\n<text text-anchor=\"middle\" x=\"668.5\" y=\"-7.8\" font-family=\"Helvetica,sans-Serif\" font-size=\"14.00\" fill=\"#000000\">class = 0</text>\n</g>\n<!-- 10&#45;&gt;12 -->\n<g id=\"edge12\" class=\"edge\">\n<title>10&#45;&gt;12</title>\n<path fill=\"none\" stroke=\"#000000\" d=\"M664.6154,-88.9777C665.1335,-80.6449 665.6902,-71.6903 666.2159,-63.2364\"/>\n<polygon fill=\"#000000\" stroke=\"#000000\" points=\"669.7095,-63.4464 666.8369,-53.2485 662.723,-63.012 669.7095,-63.4464\"/>\n</g>\n<!-- 14 -->\n<g id=\"node15\" class=\"node\">\n<title>14</title>\n<path fill=\"#f2c09c\" stroke=\"#000000\" d=\"M823,-53C823,-53 748,-53 748,-53 742,-53 736,-47 736,-41 736,-41 736,-12 736,-12 736,-6 742,0 748,0 748,0 823,0 823,0 829,0 835,-6 835,-12 835,-12 835,-41 835,-41 835,-47 829,-53 823,-53\"/>\n<text text-anchor=\"middle\" x=\"785.5\" y=\"-37.8\" font-family=\"Helvetica,sans-Serif\" font-size=\"14.00\" fill=\"#000000\">samples = 3</text>\n<text text-anchor=\"middle\" x=\"785.5\" y=\"-22.8\" font-family=\"Helvetica,sans-Serif\" font-size=\"14.00\" fill=\"#000000\">value = [2, 1]</text>\n<text text-anchor=\"middle\" x=\"785.5\" y=\"-7.8\" font-family=\"Helvetica,sans-Serif\" font-size=\"14.00\" fill=\"#000000\">class = 0</text>\n</g>\n<!-- 13&#45;&gt;14 -->\n<g id=\"edge14\" class=\"edge\">\n<title>13&#45;&gt;14</title>\n<path fill=\"none\" stroke=\"#000000\" d=\"M790.0321,-88.9777C789.4276,-80.6449 788.778,-71.6903 788.1648,-63.2364\"/>\n<polygon fill=\"#000000\" stroke=\"#000000\" points=\"791.6547,-62.969 787.4403,-53.2485 784.6731,-63.4755 791.6547,-62.969\"/>\n</g>\n<!-- 15 -->\n<g id=\"node16\" class=\"node\">\n<title>15</title>\n<path fill=\"#e58139\" stroke=\"#000000\" d=\"M948,-53C948,-53 865,-53 865,-53 859,-53 853,-47 853,-41 853,-41 853,-12 853,-12 853,-6 859,0 865,0 865,0 948,0 948,0 954,0 960,-6 960,-12 960,-12 960,-41 960,-41 960,-47 954,-53 948,-53\"/>\n<text text-anchor=\"middle\" x=\"906.5\" y=\"-37.8\" font-family=\"Helvetica,sans-Serif\" font-size=\"14.00\" fill=\"#000000\">samples = 15</text>\n<text text-anchor=\"middle\" x=\"906.5\" y=\"-22.8\" font-family=\"Helvetica,sans-Serif\" font-size=\"14.00\" fill=\"#000000\">value = [15, 0]</text>\n<text text-anchor=\"middle\" x=\"906.5\" y=\"-7.8\" font-family=\"Helvetica,sans-Serif\" font-size=\"14.00\" fill=\"#000000\">class = 0</text>\n</g>\n<!-- 13&#45;&gt;15 -->\n<g id=\"edge15\" class=\"edge\">\n<title>13&#45;&gt;15</title>\n<path fill=\"none\" stroke=\"#000000\" d=\"M832.6921,-88.9777C843.8342,-79.546 855.9173,-69.3178 867.0185,-59.9208\"/>\n<polygon fill=\"#000000\" stroke=\"#000000\" points=\"869.5295,-62.3809 874.9008,-53.2485 865.0068,-57.038 869.5295,-62.3809\"/>\n</g>\n<!-- 17 -->\n<g id=\"node18\" class=\"node\">\n<title>17</title>\n<path fill=\"#74baed\" stroke=\"#000000\" d=\"M1015,-261C1015,-261 932,-261 932,-261 926,-261 920,-255 920,-249 920,-249 920,-205 920,-205 920,-199 926,-193 932,-193 932,-193 1015,-193 1015,-193 1021,-193 1027,-199 1027,-205 1027,-205 1027,-249 1027,-249 1027,-255 1021,-261 1015,-261\"/>\n<text text-anchor=\"middle\" x=\"973.5\" y=\"-245.8\" font-family=\"Helvetica,sans-Serif\" font-size=\"14.00\" fill=\"#000000\">SibSp &lt;= 3.0</text>\n<text text-anchor=\"middle\" x=\"973.5\" y=\"-230.8\" font-family=\"Helvetica,sans-Serif\" font-size=\"14.00\" fill=\"#000000\">samples = 13</text>\n<text text-anchor=\"middle\" x=\"973.5\" y=\"-215.8\" font-family=\"Helvetica,sans-Serif\" font-size=\"14.00\" fill=\"#000000\">value = [3, 10]</text>\n<text text-anchor=\"middle\" x=\"973.5\" y=\"-200.8\" font-family=\"Helvetica,sans-Serif\" font-size=\"14.00\" fill=\"#000000\">class = 1</text>\n</g>\n<!-- 16&#45;&gt;17 -->\n<g id=\"edge17\" class=\"edge\">\n<title>16&#45;&gt;17</title>\n<path fill=\"none\" stroke=\"#000000\" d=\"M973.5,-296.9465C973.5,-288.776 973.5,-279.9318 973.5,-271.3697\"/>\n<polygon fill=\"#000000\" stroke=\"#000000\" points=\"977.0001,-271.13 973.5,-261.13 970.0001,-271.13 977.0001,-271.13\"/>\n</g>\n<!-- 22 -->\n<g id=\"node23\" class=\"node\">\n<title>22</title>\n<path fill=\"#ea9a61\" stroke=\"#000000\" d=\"M1383.5,-261C1383.5,-261 1283.5,-261 1283.5,-261 1277.5,-261 1271.5,-255 1271.5,-249 1271.5,-249 1271.5,-205 1271.5,-205 1271.5,-199 1277.5,-193 1283.5,-193 1283.5,-193 1383.5,-193 1383.5,-193 1389.5,-193 1395.5,-199 1395.5,-205 1395.5,-205 1395.5,-249 1395.5,-249 1395.5,-255 1389.5,-261 1383.5,-261\"/>\n<text text-anchor=\"middle\" x=\"1333.5\" y=\"-245.8\" font-family=\"Helvetica,sans-Serif\" font-size=\"14.00\" fill=\"#000000\">Fare &lt;= 52.277</text>\n<text text-anchor=\"middle\" x=\"1333.5\" y=\"-230.8\" font-family=\"Helvetica,sans-Serif\" font-size=\"14.00\" fill=\"#000000\">samples = 377</text>\n<text text-anchor=\"middle\" x=\"1333.5\" y=\"-215.8\" font-family=\"Helvetica,sans-Serif\" font-size=\"14.00\" fill=\"#000000\">value = [314, 63]</text>\n<text text-anchor=\"middle\" x=\"1333.5\" y=\"-200.8\" font-family=\"Helvetica,sans-Serif\" font-size=\"14.00\" fill=\"#000000\">class = 0</text>\n</g>\n<!-- 16&#45;&gt;22 -->\n<g id=\"edge22\" class=\"edge\">\n<title>16&#45;&gt;22</title>\n<path fill=\"none\" stroke=\"#000000\" d=\"M1035.7962,-313.0033C1098.5811,-294.8655 1195.3883,-266.8989 1261.4432,-247.8164\"/>\n<polygon fill=\"#000000\" stroke=\"#000000\" points=\"1262.7283,-251.0884 1271.3641,-244.9504 1260.7855,-244.3633 1262.7283,-251.0884\"/>\n</g>\n<!-- 18 -->\n<g id=\"node19\" class=\"node\">\n<title>18</title>\n<path fill=\"#399de5\" stroke=\"#000000\" d=\"M953,-149.5C953,-149.5 878,-149.5 878,-149.5 872,-149.5 866,-143.5 866,-137.5 866,-137.5 866,-108.5 866,-108.5 866,-102.5 872,-96.5 878,-96.5 878,-96.5 953,-96.5 953,-96.5 959,-96.5 965,-102.5 965,-108.5 965,-108.5 965,-137.5 965,-137.5 965,-143.5 959,-149.5 953,-149.5\"/>\n<text text-anchor=\"middle\" x=\"915.5\" y=\"-134.3\" font-family=\"Helvetica,sans-Serif\" font-size=\"14.00\" fill=\"#000000\">samples = 9</text>\n<text text-anchor=\"middle\" x=\"915.5\" y=\"-119.3\" font-family=\"Helvetica,sans-Serif\" font-size=\"14.00\" fill=\"#000000\">value = [0, 9]</text>\n<text text-anchor=\"middle\" x=\"915.5\" y=\"-104.3\" font-family=\"Helvetica,sans-Serif\" font-size=\"14.00\" fill=\"#000000\">class = 1</text>\n</g>\n<!-- 17&#45;&gt;18 -->\n<g id=\"edge18\" class=\"edge\">\n<title>17&#45;&gt;18</title>\n<path fill=\"none\" stroke=\"#000000\" d=\"M954.5086,-192.9465C948.3657,-181.9316 941.5399,-169.6922 935.3373,-158.5703\"/>\n<polygon fill=\"#000000\" stroke=\"#000000\" points=\"938.2299,-156.5711 930.3024,-149.5422 932.1163,-159.9806 938.2299,-156.5711\"/>\n</g>\n<!-- 19 -->\n<g id=\"node20\" class=\"node\">\n<title>19</title>\n<path fill=\"#eeab7b\" stroke=\"#000000\" d=\"M1070,-157C1070,-157 995,-157 995,-157 989,-157 983,-151 983,-145 983,-145 983,-101 983,-101 983,-95 989,-89 995,-89 995,-89 1070,-89 1070,-89 1076,-89 1082,-95 1082,-101 1082,-101 1082,-145 1082,-145 1082,-151 1076,-157 1070,-157\"/>\n<text text-anchor=\"middle\" x=\"1032.5\" y=\"-141.8\" font-family=\"Helvetica,sans-Serif\" font-size=\"14.00\" fill=\"#000000\">Age &lt;= 2.5</text>\n<text text-anchor=\"middle\" x=\"1032.5\" y=\"-126.8\" font-family=\"Helvetica,sans-Serif\" font-size=\"14.00\" fill=\"#000000\">samples = 4</text>\n<text text-anchor=\"middle\" x=\"1032.5\" y=\"-111.8\" font-family=\"Helvetica,sans-Serif\" font-size=\"14.00\" fill=\"#000000\">value = [3, 1]</text>\n<text text-anchor=\"middle\" x=\"1032.5\" y=\"-96.8\" font-family=\"Helvetica,sans-Serif\" font-size=\"14.00\" fill=\"#000000\">class = 0</text>\n</g>\n<!-- 17&#45;&gt;19 -->\n<g id=\"edge19\" class=\"edge\">\n<title>17&#45;&gt;19</title>\n<path fill=\"none\" stroke=\"#000000\" d=\"M992.8188,-192.9465C997.7087,-184.3271 1003.0239,-174.9579 1008.1278,-165.9611\"/>\n<polygon fill=\"#000000\" stroke=\"#000000\" points=\"1011.2476,-167.5549 1013.1378,-157.13 1005.1592,-164.1008 1011.2476,-167.5549\"/>\n</g>\n<!-- 20 -->\n<g id=\"node21\" class=\"node\">\n<title>20</title>\n<path fill=\"#e58139\" stroke=\"#000000\" d=\"M1065,-53C1065,-53 990,-53 990,-53 984,-53 978,-47 978,-41 978,-41 978,-12 978,-12 978,-6 984,0 990,0 990,0 1065,0 1065,0 1071,0 1077,-6 1077,-12 1077,-12 1077,-41 1077,-41 1077,-47 1071,-53 1065,-53\"/>\n<text text-anchor=\"middle\" x=\"1027.5\" y=\"-37.8\" font-family=\"Helvetica,sans-Serif\" font-size=\"14.00\" fill=\"#000000\">samples = 3</text>\n<text text-anchor=\"middle\" x=\"1027.5\" y=\"-22.8\" font-family=\"Helvetica,sans-Serif\" font-size=\"14.00\" fill=\"#000000\">value = [3, 0]</text>\n<text text-anchor=\"middle\" x=\"1027.5\" y=\"-7.8\" font-family=\"Helvetica,sans-Serif\" font-size=\"14.00\" fill=\"#000000\">class = 0</text>\n</g>\n<!-- 19&#45;&gt;20 -->\n<g id=\"edge20\" class=\"edge\">\n<title>19&#45;&gt;20</title>\n<path fill=\"none\" stroke=\"#000000\" d=\"M1030.7372,-88.9777C1030.3054,-80.6449 1029.8415,-71.6903 1029.4034,-63.2364\"/>\n<polygon fill=\"#000000\" stroke=\"#000000\" points=\"1032.8988,-63.0539 1028.8859,-53.2485 1025.9082,-63.4162 1032.8988,-63.0539\"/>\n</g>\n<!-- 21 -->\n<g id=\"node22\" class=\"node\">\n<title>21</title>\n<path fill=\"#399de5\" stroke=\"#000000\" d=\"M1182,-53C1182,-53 1107,-53 1107,-53 1101,-53 1095,-47 1095,-41 1095,-41 1095,-12 1095,-12 1095,-6 1101,0 1107,0 1107,0 1182,0 1182,0 1188,0 1194,-6 1194,-12 1194,-12 1194,-41 1194,-41 1194,-47 1188,-53 1182,-53\"/>\n<text text-anchor=\"middle\" x=\"1144.5\" y=\"-37.8\" font-family=\"Helvetica,sans-Serif\" font-size=\"14.00\" fill=\"#000000\">samples = 1</text>\n<text text-anchor=\"middle\" x=\"1144.5\" y=\"-22.8\" font-family=\"Helvetica,sans-Serif\" font-size=\"14.00\" fill=\"#000000\">value = [0, 1]</text>\n<text text-anchor=\"middle\" x=\"1144.5\" y=\"-7.8\" font-family=\"Helvetica,sans-Serif\" font-size=\"14.00\" fill=\"#000000\">class = 1</text>\n</g>\n<!-- 19&#45;&gt;21 -->\n<g id=\"edge21\" class=\"edge\">\n<title>19&#45;&gt;21</title>\n<path fill=\"none\" stroke=\"#000000\" d=\"M1071.987,-88.9777C1082.9336,-79.546 1094.8047,-69.3178 1105.7111,-59.9208\"/>\n<polygon fill=\"#000000\" stroke=\"#000000\" points=\"1108.1639,-62.4274 1113.4551,-53.2485 1103.5947,-57.1244 1108.1639,-62.4274\"/>\n</g>\n<!-- 23 -->\n<g id=\"node24\" class=\"node\">\n<title>23</title>\n<path fill=\"#e99559\" stroke=\"#000000\" d=\"M1383.5,-157C1383.5,-157 1283.5,-157 1283.5,-157 1277.5,-157 1271.5,-151 1271.5,-145 1271.5,-145 1271.5,-101 1271.5,-101 1271.5,-95 1277.5,-89 1283.5,-89 1283.5,-89 1383.5,-89 1383.5,-89 1389.5,-89 1395.5,-95 1395.5,-101 1395.5,-101 1395.5,-145 1395.5,-145 1395.5,-151 1389.5,-157 1383.5,-157\"/>\n<text text-anchor=\"middle\" x=\"1333.5\" y=\"-141.8\" font-family=\"Helvetica,sans-Serif\" font-size=\"14.00\" fill=\"#000000\">Age &lt;= 77.0</text>\n<text text-anchor=\"middle\" x=\"1333.5\" y=\"-126.8\" font-family=\"Helvetica,sans-Serif\" font-size=\"14.00\" fill=\"#000000\">samples = 332</text>\n<text text-anchor=\"middle\" x=\"1333.5\" y=\"-111.8\" font-family=\"Helvetica,sans-Serif\" font-size=\"14.00\" fill=\"#000000\">value = [286, 46]</text>\n<text text-anchor=\"middle\" x=\"1333.5\" y=\"-96.8\" font-family=\"Helvetica,sans-Serif\" font-size=\"14.00\" fill=\"#000000\">class = 0</text>\n</g>\n<!-- 22&#45;&gt;23 -->\n<g id=\"edge23\" class=\"edge\">\n<title>22&#45;&gt;23</title>\n<path fill=\"none\" stroke=\"#000000\" d=\"M1333.5,-192.9465C1333.5,-184.776 1333.5,-175.9318 1333.5,-167.3697\"/>\n<polygon fill=\"#000000\" stroke=\"#000000\" points=\"1337.0001,-167.13 1333.5,-157.13 1330.0001,-167.13 1337.0001,-167.13\"/>\n</g>\n<!-- 26 -->\n<g id=\"node27\" class=\"node\">\n<title>26</title>\n<path fill=\"#f5ceb1\" stroke=\"#000000\" d=\"M1576.5,-157C1576.5,-157 1484.5,-157 1484.5,-157 1478.5,-157 1472.5,-151 1472.5,-145 1472.5,-145 1472.5,-101 1472.5,-101 1472.5,-95 1478.5,-89 1484.5,-89 1484.5,-89 1576.5,-89 1576.5,-89 1582.5,-89 1588.5,-95 1588.5,-101 1588.5,-101 1588.5,-145 1588.5,-145 1588.5,-151 1582.5,-157 1576.5,-157\"/>\n<text text-anchor=\"middle\" x=\"1530.5\" y=\"-141.8\" font-family=\"Helvetica,sans-Serif\" font-size=\"14.00\" fill=\"#000000\">SibSp &lt;= 1.5</text>\n<text text-anchor=\"middle\" x=\"1530.5\" y=\"-126.8\" font-family=\"Helvetica,sans-Serif\" font-size=\"14.00\" fill=\"#000000\">samples = 45</text>\n<text text-anchor=\"middle\" x=\"1530.5\" y=\"-111.8\" font-family=\"Helvetica,sans-Serif\" font-size=\"14.00\" fill=\"#000000\">value = [28, 17]</text>\n<text text-anchor=\"middle\" x=\"1530.5\" y=\"-96.8\" font-family=\"Helvetica,sans-Serif\" font-size=\"14.00\" fill=\"#000000\">class = 0</text>\n</g>\n<!-- 22&#45;&gt;26 -->\n<g id=\"edge26\" class=\"edge\">\n<title>22&#45;&gt;26</title>\n<path fill=\"none\" stroke=\"#000000\" d=\"M1395.5616,-194.2365C1417.1709,-182.8286 1441.5039,-169.9827 1463.4958,-158.3728\"/>\n<polygon fill=\"#000000\" stroke=\"#000000\" points=\"1465.23,-161.4151 1472.4393,-153.6513 1461.9619,-155.2248 1465.23,-161.4151\"/>\n</g>\n<!-- 24 -->\n<g id=\"node25\" class=\"node\">\n<title>24</title>\n<path fill=\"#e99558\" stroke=\"#000000\" d=\"M1324.5,-53C1324.5,-53 1224.5,-53 1224.5,-53 1218.5,-53 1212.5,-47 1212.5,-41 1212.5,-41 1212.5,-12 1212.5,-12 1212.5,-6 1218.5,0 1224.5,0 1224.5,0 1324.5,0 1324.5,0 1330.5,0 1336.5,-6 1336.5,-12 1336.5,-12 1336.5,-41 1336.5,-41 1336.5,-47 1330.5,-53 1324.5,-53\"/>\n<text text-anchor=\"middle\" x=\"1274.5\" y=\"-37.8\" font-family=\"Helvetica,sans-Serif\" font-size=\"14.00\" fill=\"#000000\">samples = 331</text>\n<text text-anchor=\"middle\" x=\"1274.5\" y=\"-22.8\" font-family=\"Helvetica,sans-Serif\" font-size=\"14.00\" fill=\"#000000\">value = [286, 45]</text>\n<text text-anchor=\"middle\" x=\"1274.5\" y=\"-7.8\" font-family=\"Helvetica,sans-Serif\" font-size=\"14.00\" fill=\"#000000\">class = 0</text>\n</g>\n<!-- 23&#45;&gt;24 -->\n<g id=\"edge24\" class=\"edge\">\n<title>23&#45;&gt;24</title>\n<path fill=\"none\" stroke=\"#000000\" d=\"M1312.6988,-88.9777C1307.3242,-80.187 1301.5265,-70.7044 1296.1115,-61.8477\"/>\n<polygon fill=\"#000000\" stroke=\"#000000\" points=\"1299.0564,-59.9545 1290.854,-53.2485 1293.0842,-63.6059 1299.0564,-59.9545\"/>\n</g>\n<!-- 25 -->\n<g id=\"node26\" class=\"node\">\n<title>25</title>\n<path fill=\"#399de5\" stroke=\"#000000\" d=\"M1442,-53C1442,-53 1367,-53 1367,-53 1361,-53 1355,-47 1355,-41 1355,-41 1355,-12 1355,-12 1355,-6 1361,0 1367,0 1367,0 1442,0 1442,0 1448,0 1454,-6 1454,-12 1454,-12 1454,-41 1454,-41 1454,-47 1448,-53 1442,-53\"/>\n<text text-anchor=\"middle\" x=\"1404.5\" y=\"-37.8\" font-family=\"Helvetica,sans-Serif\" font-size=\"14.00\" fill=\"#000000\">samples = 1</text>\n<text text-anchor=\"middle\" x=\"1404.5\" y=\"-22.8\" font-family=\"Helvetica,sans-Serif\" font-size=\"14.00\" fill=\"#000000\">value = [0, 1]</text>\n<text text-anchor=\"middle\" x=\"1404.5\" y=\"-7.8\" font-family=\"Helvetica,sans-Serif\" font-size=\"14.00\" fill=\"#000000\">class = 1</text>\n</g>\n<!-- 23&#45;&gt;25 -->\n<g id=\"edge25\" class=\"edge\">\n<title>23&#45;&gt;25</title>\n<path fill=\"none\" stroke=\"#000000\" d=\"M1358.5319,-88.9777C1365.0671,-80.0954 1372.122,-70.5067 1378.6964,-61.5711\"/>\n<polygon fill=\"#000000\" stroke=\"#000000\" points=\"1381.7126,-63.3775 1384.8198,-53.2485 1376.0743,-59.229 1381.7126,-63.3775\"/>\n</g>\n<!-- 27 -->\n<g id=\"node28\" class=\"node\">\n<title>27</title>\n<path fill=\"#fbece1\" stroke=\"#000000\" d=\"M1576.5,-53C1576.5,-53 1484.5,-53 1484.5,-53 1478.5,-53 1472.5,-47 1472.5,-41 1472.5,-41 1472.5,-12 1472.5,-12 1472.5,-6 1478.5,0 1484.5,0 1484.5,0 1576.5,0 1576.5,0 1582.5,0 1588.5,-6 1588.5,-12 1588.5,-12 1588.5,-41 1588.5,-41 1588.5,-47 1582.5,-53 1576.5,-53\"/>\n<text text-anchor=\"middle\" x=\"1530.5\" y=\"-37.8\" font-family=\"Helvetica,sans-Serif\" font-size=\"14.00\" fill=\"#000000\">samples = 37</text>\n<text text-anchor=\"middle\" x=\"1530.5\" y=\"-22.8\" font-family=\"Helvetica,sans-Serif\" font-size=\"14.00\" fill=\"#000000\">value = [20, 17]</text>\n<text text-anchor=\"middle\" x=\"1530.5\" y=\"-7.8\" font-family=\"Helvetica,sans-Serif\" font-size=\"14.00\" fill=\"#000000\">class = 0</text>\n</g>\n<!-- 26&#45;&gt;27 -->\n<g id=\"edge27\" class=\"edge\">\n<title>26&#45;&gt;27</title>\n<path fill=\"none\" stroke=\"#000000\" d=\"M1530.5,-88.9777C1530.5,-80.7364 1530.5,-71.887 1530.5,-63.5153\"/>\n<polygon fill=\"#000000\" stroke=\"#000000\" points=\"1534.0001,-63.2484 1530.5,-53.2485 1527.0001,-63.2485 1534.0001,-63.2484\"/>\n</g>\n<!-- 28 -->\n<g id=\"node29\" class=\"node\">\n<title>28</title>\n<path fill=\"#e58139\" stroke=\"#000000\" d=\"M1694,-53C1694,-53 1619,-53 1619,-53 1613,-53 1607,-47 1607,-41 1607,-41 1607,-12 1607,-12 1607,-6 1613,0 1619,0 1619,0 1694,0 1694,0 1700,0 1706,-6 1706,-12 1706,-12 1706,-41 1706,-41 1706,-47 1700,-53 1694,-53\"/>\n<text text-anchor=\"middle\" x=\"1656.5\" y=\"-37.8\" font-family=\"Helvetica,sans-Serif\" font-size=\"14.00\" fill=\"#000000\">samples = 8</text>\n<text text-anchor=\"middle\" x=\"1656.5\" y=\"-22.8\" font-family=\"Helvetica,sans-Serif\" font-size=\"14.00\" fill=\"#000000\">value = [8, 0]</text>\n<text text-anchor=\"middle\" x=\"1656.5\" y=\"-7.8\" font-family=\"Helvetica,sans-Serif\" font-size=\"14.00\" fill=\"#000000\">class = 0</text>\n</g>\n<!-- 26&#45;&gt;28 -->\n<g id=\"edge28\" class=\"edge\">\n<title>26&#45;&gt;28</title>\n<path fill=\"none\" stroke=\"#000000\" d=\"M1574.9229,-88.9777C1587.477,-79.3629 1601.1119,-68.9203 1613.576,-59.3743\"/>\n<polygon fill=\"#000000\" stroke=\"#000000\" points=\"1615.7635,-62.1076 1621.5745,-53.2485 1611.5073,-56.5502 1615.7635,-62.1076\"/>\n</g>\n</g>\n</svg>\n"
          },
          "metadata": {
            "tags": []
          },
          "execution_count": 53
        }
      ]
    },
    {
      "cell_type": "code",
      "metadata": {
        "id": "SO7yHaa0w_SI"
      },
      "source": [
        ""
      ],
      "execution_count": null,
      "outputs": []
    }
  ]
}